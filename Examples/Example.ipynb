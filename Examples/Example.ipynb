{
 "cells": [
  {
   "cell_type": "code",
   "execution_count": 32,
   "metadata": {},
   "outputs": [],
   "source": [
    "import sys\n",
    "if \"..\" not in sys.path:\n",
    "    sys.path.append(\"..\")\n",
    "import pandas as pd\n",
    "import numpy as np\n",
    "\n",
    "from Regression.Linear import Linear, LinearCustom\n",
    "from Regression.Logistic import Logistic, LogisticCustom\n",
    "from Classification.bayes import NaiveBayes\n",
    "from Knn.knn import knn\n",
    "from Kmeans.Kmeans import KMeans"
   ]
  },
  {
   "cell_type": "markdown",
   "metadata": {},
   "source": [
    "## Data loading "
   ]
  },
  {
   "cell_type": "code",
   "execution_count": 22,
   "metadata": {
    "scrolled": true
   },
   "outputs": [
    {
     "data": {
      "text/html": [
       "<div>\n",
       "<style scoped>\n",
       "    .dataframe tbody tr th:only-of-type {\n",
       "        vertical-align: middle;\n",
       "    }\n",
       "\n",
       "    .dataframe tbody tr th {\n",
       "        vertical-align: top;\n",
       "    }\n",
       "\n",
       "    .dataframe thead th {\n",
       "        text-align: right;\n",
       "    }\n",
       "</style>\n",
       "<table border=\"1\" class=\"dataframe\">\n",
       "  <thead>\n",
       "    <tr style=\"text-align: right;\">\n",
       "      <th></th>\n",
       "      <th>Inhabitants</th>\n",
       "      <th>Percent with incomes below $5000</th>\n",
       "      <th>Percent unemployed</th>\n",
       "      <th>Murders per annum per 1,000,000 inhabitants</th>\n",
       "    </tr>\n",
       "    <tr>\n",
       "      <th>Index</th>\n",
       "      <th></th>\n",
       "      <th></th>\n",
       "      <th></th>\n",
       "      <th></th>\n",
       "    </tr>\n",
       "  </thead>\n",
       "  <tbody>\n",
       "    <tr>\n",
       "      <th>1</th>\n",
       "      <td>587000</td>\n",
       "      <td>16.5</td>\n",
       "      <td>6.2</td>\n",
       "      <td>11.2</td>\n",
       "    </tr>\n",
       "    <tr>\n",
       "      <th>2</th>\n",
       "      <td>643000</td>\n",
       "      <td>20.5</td>\n",
       "      <td>6.4</td>\n",
       "      <td>13.4</td>\n",
       "    </tr>\n",
       "    <tr>\n",
       "      <th>3</th>\n",
       "      <td>635000</td>\n",
       "      <td>26.3</td>\n",
       "      <td>9.3</td>\n",
       "      <td>40.7</td>\n",
       "    </tr>\n",
       "  </tbody>\n",
       "</table>\n",
       "</div>"
      ],
      "text/plain": [
       "       Inhabitants  Percent with incomes below $5000  Percent unemployed  \\\n",
       "Index                                                                      \n",
       "1           587000                              16.5                 6.2   \n",
       "2           643000                              20.5                 6.4   \n",
       "3           635000                              26.3                 9.3   \n",
       "\n",
       "       Murders per annum per 1,000,000 inhabitants  \n",
       "Index                                               \n",
       "1                                             11.2  \n",
       "2                                             13.4  \n",
       "3                                             40.7  "
      ]
     },
     "execution_count": 22,
     "metadata": {},
     "output_type": "execute_result"
    }
   ],
   "source": [
    "with open(\"data/murders.txt\") as f:\n",
    "    raw_murders_data = pd.read_csv(f, sep=\";\", index_col=0)\n",
    "\n",
    "raw_murders_data.head(3)"
   ]
  },
  {
   "cell_type": "code",
   "execution_count": 29,
   "metadata": {},
   "outputs": [],
   "source": [
    "test_frac = 0.2\n",
    "div_index = int(test_frac*raw_murders_data.shape[0])\n",
    "random_order_data = raw_murders_data.values.copy()\n",
    "np.random.shuffle(random_order_data)\n",
    "\n",
    "test, train = np.split(random_order_data, [div_index])\n",
    "x_train, y_train = train[:, :3], train[:, 3]\n",
    "x_test, y_test = test[:, :3], test[:, 3]"
   ]
  },
  {
   "cell_type": "code",
   "execution_count": null,
   "metadata": {},
   "outputs": [],
   "source": []
  }
 ],
 "metadata": {
  "kernelspec": {
   "display_name": "Python 3",
   "language": "python",
   "name": "python3"
  },
  "language_info": {
   "codemirror_mode": {
    "name": "ipython",
    "version": 3
   },
   "file_extension": ".py",
   "mimetype": "text/x-python",
   "name": "python",
   "nbconvert_exporter": "python",
   "pygments_lexer": "ipython3",
   "version": "3.6.1"
  }
 },
 "nbformat": 4,
 "nbformat_minor": 2
}
